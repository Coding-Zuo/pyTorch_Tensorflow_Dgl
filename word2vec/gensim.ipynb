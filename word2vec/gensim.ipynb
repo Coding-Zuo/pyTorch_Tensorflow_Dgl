{
 "cells": [
  {
   "cell_type": "code",
   "execution_count": 1,
   "metadata": {},
   "outputs": [],
   "source": [
    "from gensim.models import word2vec\n",
    "import logging\n",
    "\n",
    "logging.basicConfig(format='%(asctime)s: %(levelname)s: %(message)s', level=logging.INFO)"
   ]
  },
  {
   "cell_type": "code",
   "execution_count": 2,
   "metadata": {},
   "outputs": [],
   "source": [
    "raw_sentences =['the quick brown fox jumps over the lazy dogs',\"yoyoyo you go home now to sleep\"]"
   ]
  },
  {
   "cell_type": "code",
   "execution_count": 3,
   "metadata": {},
   "outputs": [],
   "source": [
    "sentences = [s.split() for s in raw_sentences]"
   ]
  },
  {
   "cell_type": "code",
   "execution_count": 4,
   "metadata": {},
   "outputs": [
    {
     "data": {
      "text/plain": [
       "[['the', 'quick', 'brown', 'fox', 'jumps', 'over', 'the', 'lazy', 'dogs'],\n",
       " ['yoyoyo', 'you', 'go', 'home', 'now', 'to', 'sleep']]"
      ]
     },
     "execution_count": 4,
     "metadata": {},
     "output_type": "execute_result"
    }
   ],
   "source": [
    "sentences"
   ]
  },
  {
   "cell_type": "markdown",
   "metadata": {},
   "source": [
    "- min_count: 在不同大小的语料集中，我们对基于词频的需求也是不一样的。譬如在较大的语料集中，我们希望忽略那些只出现过一两次的单词，这里我们就可以通过设置，min_count参数进行控制，一般在0-100之间\n",
    "\n",
    "- size: 参数主要是用来设置神经网络的层数，word2vec中的默认值是设置为100层。更大的层次设置意味着更多的输入数据，不过也能提升整体的标准度，合理的设置范围为10-数百"
   ]
  },
  {
   "cell_type": "code",
   "execution_count": 5,
   "metadata": {},
   "outputs": [
    {
     "name": "stderr",
     "output_type": "stream",
     "text": [
      "2021-01-05 23:39:17,811: INFO: collecting all words and their counts\n",
      "2021-01-05 23:39:17,812: INFO: PROGRESS: at sentence #0, processed 0 words, keeping 0 word types\n",
      "2021-01-05 23:39:17,813: INFO: collected 15 word types from a corpus of 16 raw words and 2 sentences\n",
      "2021-01-05 23:39:17,814: INFO: Loading a fresh vocabulary\n",
      "2021-01-05 23:39:17,815: INFO: effective_min_count=1 retains 15 unique words (100% of original 15, drops 0)\n",
      "2021-01-05 23:39:17,816: INFO: effective_min_count=1 leaves 16 word corpus (100% of original 16, drops 0)\n",
      "2021-01-05 23:39:17,817: INFO: deleting the raw counts dictionary of 15 items\n",
      "2021-01-05 23:39:17,818: INFO: sample=0.001 downsamples 15 most-common words\n",
      "2021-01-05 23:39:17,819: INFO: downsampling leaves estimated 2 word corpus (13.7% of prior 16)\n",
      "2021-01-05 23:39:17,820: INFO: estimated required memory for 15 words and 100 dimensions: 19500 bytes\n",
      "2021-01-05 23:39:17,820: INFO: resetting layer weights\n",
      "2021-01-05 23:39:17,828: INFO: training model with 3 workers on 15 vocabulary and 100 features, using sg=0 hs=0 sample=0.001 negative=5 window=5\n",
      "2021-01-05 23:39:17,832: INFO: worker thread finished; awaiting finish of 2 more threads\n",
      "2021-01-05 23:39:17,833: INFO: worker thread finished; awaiting finish of 1 more threads\n",
      "2021-01-05 23:39:17,833: INFO: worker thread finished; awaiting finish of 0 more threads\n",
      "2021-01-05 23:39:17,834: INFO: EPOCH - 1 : training on 16 raw words (2 effective words) took 0.0s, 710 effective words/s\n",
      "2021-01-05 23:39:17,837: INFO: worker thread finished; awaiting finish of 2 more threads\n",
      "2021-01-05 23:39:17,838: INFO: worker thread finished; awaiting finish of 1 more threads\n",
      "2021-01-05 23:39:17,839: INFO: worker thread finished; awaiting finish of 0 more threads\n",
      "2021-01-05 23:39:17,839: INFO: EPOCH - 2 : training on 16 raw words (3 effective words) took 0.0s, 1173 effective words/s\n",
      "2021-01-05 23:39:17,842: INFO: worker thread finished; awaiting finish of 2 more threads\n",
      "2021-01-05 23:39:17,843: INFO: worker thread finished; awaiting finish of 1 more threads\n",
      "2021-01-05 23:39:17,844: INFO: worker thread finished; awaiting finish of 0 more threads\n",
      "2021-01-05 23:39:17,844: INFO: EPOCH - 3 : training on 16 raw words (1 effective words) took 0.0s, 369 effective words/s\n",
      "2021-01-05 23:39:17,847: INFO: worker thread finished; awaiting finish of 2 more threads\n",
      "2021-01-05 23:39:17,848: INFO: worker thread finished; awaiting finish of 1 more threads\n",
      "2021-01-05 23:39:17,849: INFO: worker thread finished; awaiting finish of 0 more threads\n",
      "2021-01-05 23:39:17,850: INFO: EPOCH - 4 : training on 16 raw words (2 effective words) took 0.0s, 874 effective words/s\n",
      "2021-01-05 23:39:17,852: INFO: worker thread finished; awaiting finish of 2 more threads\n",
      "2021-01-05 23:39:17,853: INFO: worker thread finished; awaiting finish of 1 more threads\n",
      "2021-01-05 23:39:17,854: INFO: worker thread finished; awaiting finish of 0 more threads\n",
      "2021-01-05 23:39:17,855: INFO: EPOCH - 5 : training on 16 raw words (2 effective words) took 0.0s, 895 effective words/s\n",
      "2021-01-05 23:39:17,855: INFO: training on a 80 raw words (10 effective words) took 0.0s, 376 effective words/s\n",
      "2021-01-05 23:39:17,856: WARNING: under 10 jobs per worker: consider setting a smaller `batch_words' for smoother alpha decay\n"
     ]
    }
   ],
   "source": [
    "model = word2vec.Word2Vec(sentences,min_count=1)"
   ]
  },
  {
   "cell_type": "code",
   "execution_count": 11,
   "metadata": {},
   "outputs": [
    {
     "name": "stderr",
     "output_type": "stream",
     "text": [
      "/root/anaconda3/lib/python3.7/site-packages/ipykernel_launcher.py:1: DeprecationWarning: Call to deprecated `similarity` (Method will be removed in 4.0.0, use self.wv.similarity() instead).\n",
      "  \"\"\"Entry point for launching an IPython kernel.\n"
     ]
    },
    {
     "data": {
      "text/plain": [
       "-0.1808283"
      ]
     },
     "execution_count": 11,
     "metadata": {},
     "output_type": "execute_result"
    }
   ],
   "source": [
    "model.similarity('dogs','fox')"
   ]
  },
  {
   "cell_type": "code",
   "execution_count": null,
   "metadata": {},
   "outputs": [],
   "source": []
  }
 ],
 "metadata": {
  "kernelspec": {
   "display_name": "Python 3",
   "language": "python",
   "name": "python3"
  },
  "language_info": {
   "codemirror_mode": {
    "name": "ipython",
    "version": 3
   },
   "file_extension": ".py",
   "mimetype": "text/x-python",
   "name": "python",
   "nbconvert_exporter": "python",
   "pygments_lexer": "ipython3",
   "version": "3.7.6"
  }
 },
 "nbformat": 4,
 "nbformat_minor": 4
}
