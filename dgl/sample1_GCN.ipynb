{
 "cells": [
  {
   "cell_type": "code",
   "execution_count": 1,
   "metadata": {},
   "outputs": [
    {
     "name": "stderr",
     "output_type": "stream",
     "text": [
      "Using backend: pytorch\n"
     ]
    }
   ],
   "source": [
    "import dgl\n",
    "import dgl.function as fn\n",
    "import torch as th\n",
    "import torch.nn as nn\n",
    "import torch.nn.functional as F\n",
    "from dgl import DGLGraph"
   ]
  },
  {
   "cell_type": "markdown",
   "metadata": {},
   "source": [
    "https://mp.weixin.qq.com/s?__biz=MzI2MDE5MTQxNg%3D%3D&idx=1&mid=2649695390&scene=21&sn=ad628f54c97968d6fff55907c47cb77e#wechat_redirect"
   ]
  },
  {
   "cell_type": "markdown",
   "metadata": {},
   "source": [
    "定义 GCN 的 message 函数和 reduce 函数， message 函数用于发送节点的Embedding，reduce 函数用来对收到的 Embedding 进行聚合"
   ]
  },
  {
   "cell_type": "code",
   "execution_count": 2,
   "metadata": {},
   "outputs": [],
   "source": [
    "# 在这里，每个节点发送Embedding的时候不需要任何处理\n",
    "#所以可以通过内置的copy_scr实现，out='m'表示发送到目的节点后目的节点的mailbox用m来标识这个消息是源节点的Embedding。\n",
    "gcn_msg=fn.copy_src(src=\"h\",out=\"m\")\n",
    "gcn_reduce=fn.sum(msg=\"m\",out=\"h\")#聚合邻居节点的特征"
   ]
  },
  {
   "cell_type": "markdown",
   "metadata": {},
   "source": [
    "定义一个应用于节点的node UDF(user defined function)，<br>\n",
    "即定义一个全连接层来对中间节点表示 $\\hat h_i$ 进行线性变换<br>\n",
    "然后在利用非线性函数f进行计算:$h_u^{new}=f(W_u\\hat h_u)$"
   ]
  },
  {
   "cell_type": "code",
   "execution_count": 3,
   "metadata": {},
   "outputs": [],
   "source": [
    "#定义节点的UDF apply_nodes  他是一个完全连接层\n",
    "class NodeApplyModule(nn.Module):\n",
    "    #初始化\n",
    "    def __init__(self,in_feats,out_feats,activation):\n",
    "        super(NodeApplyModule,self).__init__()\n",
    "        self.linear=nn.Linear(in_feats,out_feats)\n",
    "        self.activation=activation\n",
    "    #前向传播\n",
    "    def forward(self,node):\n",
    "        h=self.linear(node.data[\"h\"])\n",
    "        if self.activation is not None:\n",
    "            h=self.activation(h)\n",
    "        return {\"h\":h}"
   ]
  },
  {
   "cell_type": "markdown",
   "metadata": {},
   "source": [
    "定义GCN的Embedding更新层，以实现在所有节点上进行消息传递，并利用NodeApplyMoudle 对节点新进行计算更新"
   ]
  },
  {
   "cell_type": "code",
   "execution_count": 4,
   "metadata": {},
   "outputs": [],
   "source": [
    "#定义GCN模块  GCN模块的本质是在所有节点上执行消息传递  然后再调用NOdeApplyModule全连接层\n",
    "class GCN(nn.Module):\n",
    "    #初始化\n",
    "    def __init__(self,in_feats,out_feats,activation):\n",
    "        super(GCN,self).__init__()\n",
    "        #调用全连接层模块\n",
    "        self.apply_mod=NodeApplyModule(in_feats,out_feats,activation)\n",
    "    #前向传播\n",
    "    def forward(self,g,feature):\n",
    "        g.ndata[\"h\"]=feature#feature应该对应的整个图的特征矩阵\n",
    "        g.update_all(gcn_msg,gcn_reduce)\n",
    "        g.apply_nodes(func=self.apply_mod)#将更新操作应用到节点上\n",
    "        \n",
    "        return g.ndata.pop(\"h\")"
   ]
  },
  {
   "cell_type": "markdown",
   "metadata": {},
   "source": [
    "定义了一个包含两个GCN层的图神经网络分类器。向该分类器输入1433的训练样本一获得该样本所属的类别编号，共7类"
   ]
  },
  {
   "cell_type": "code",
   "execution_count": 5,
   "metadata": {},
   "outputs": [
    {
     "data": {
      "text/plain": [
       "Net(\n",
       "  (gcn1): GCN(\n",
       "    (apply_mod): NodeApplyModule(\n",
       "      (linear): Linear(in_features=1433, out_features=16, bias=True)\n",
       "    )\n",
       "  )\n",
       "  (gcn2): GCN(\n",
       "    (apply_mod): NodeApplyModule(\n",
       "      (linear): Linear(in_features=16, out_features=7, bias=True)\n",
       "    )\n",
       "  )\n",
       ")"
      ]
     },
     "execution_count": 5,
     "metadata": {},
     "output_type": "execute_result"
    }
   ],
   "source": [
    "#利用cora数据集搭建网络然后训练\n",
    "class Net(nn.Module):\n",
    "    #初始化网络参数\n",
    "    def __init__(self):\n",
    "        super(Net,self).__init__()\n",
    "        self.gcn1=GCN(1433,16,F.relu)#第一层GCN\n",
    "        self.gcn2=GCN(16,7,None)\n",
    "    #前向传播\n",
    "    def forward(self,g,features):\n",
    "        x=self.gcn1(g,features)\n",
    "        x=self.gcn2(g,x)\n",
    "        return x\n",
    "net=Net()\n",
    "net"
   ]
  },
  {
   "cell_type": "markdown",
   "metadata": {},
   "source": [
    "数据集"
   ]
  },
  {
   "cell_type": "code",
   "execution_count": 6,
   "metadata": {},
   "outputs": [
    {
     "name": "stdout",
     "output_type": "stream",
     "text": [
      "Loading from cache failed, re-processing.\n",
      "Finished data loading and preprocessing.\n",
      "  NumNodes: 2708\n",
      "  NumEdges: 10556\n",
      "  NumFeats: 1433\n",
      "  NumClasses: 7\n",
      "  NumTrainingSamples: 140\n",
      "  NumValidationSamples: 500\n",
      "  NumTestSamples: 1000\n",
      "Done saving data into cached files.\n"
     ]
    },
    {
     "name": "stderr",
     "output_type": "stream",
     "text": [
      "/root/anaconda3/lib/python3.7/site-packages/dgl/data/utils.py:285: UserWarning: Property dataset.feat will be deprecated, please use g.ndata['feat'] instead.\n",
      "  warnings.warn('Property {} will be deprecated, please use {} instead.'.format(old, new))\n",
      "/root/anaconda3/lib/python3.7/site-packages/dgl/data/utils.py:285: UserWarning: Property dataset.label will be deprecated, please use g.ndata['label'] instead.\n",
      "  warnings.warn('Property {} will be deprecated, please use {} instead.'.format(old, new))\n",
      "/root/anaconda3/lib/python3.7/site-packages/dgl/data/utils.py:285: UserWarning: Property dataset.train_mask will be deprecated, please use g.ndata['train_mask'] instead.\n",
      "  warnings.warn('Property {} will be deprecated, please use {} instead.'.format(old, new))\n",
      "/root/anaconda3/lib/python3.7/site-packages/dgl/data/utils.py:285: UserWarning: Property dataset.test_mask will be deprecated, please use g.ndata['test_mask'] instead.\n",
      "  warnings.warn('Property {} will be deprecated, please use {} instead.'.format(old, new))\n",
      "/root/anaconda3/lib/python3.7/site-packages/dgl/data/utils.py:285: UserWarning: Property dataset.graph will be deprecated, please use dataset[0] instead.\n",
      "  warnings.warn('Property {} will be deprecated, please use {} instead.'.format(old, new))\n",
      "/root/anaconda3/lib/python3.7/site-packages/dgl/base.py:45: DGLWarning: Recommend creating graphs by `dgl.graph(data)` instead of `dgl.DGLGraph(data)`.\n",
      "  return warnings.warn(message, category=category, stacklevel=1)\n"
     ]
    }
   ],
   "source": [
    "#使用DGL内置模块加载cora数据集\n",
    "from dgl.data import citation_graph as citegrh\n",
    "import networkx as nx\n",
    "def load_cora_data():\n",
    "    data = citegrh.load_cora()#加载数据集\n",
    "    features=th. FloatTensor(data.features)#特征向量  张量的形式\n",
    "    labels=th.LongTensor(data.labels)#所属类别\n",
    "    train_mask=th.BoolTensor(data.train_mask)#那些参与训练\n",
    "    test_mask=th.BoolTensor(data.test_mask)#哪些是测试集\n",
    "    g=data.graph\n",
    "    g.remove_edges_from(nx.selfloop_edges(g))#删除自循环的边\n",
    "    g = DGLGraph(g)\n",
    "    g.add_edges(g.nodes(), g.nodes())\n",
    "    return g, features, labels, train_mask, test_mask\n",
    " \n",
    "g, features, labels, train_mask, test_mask=load_cora_data()\n"
   ]
  },
  {
   "cell_type": "code",
   "execution_count": 7,
   "metadata": {},
   "outputs": [
    {
     "data": {
      "image/png": "[encoded data removed]",
      "text/plain": [
       "<Figure size 432x288 with 1 Axes>"
      ]
     },
     "metadata": {},
     "output_type": "display_data"
    }
   ],
   "source": [
    "import matplotlib.pyplot as plt\n",
    "nx.draw(g.to_networkx(),node_size=50,with_labels=True)\n",
    "plt.show()"
   ]
  },
  {
   "cell_type": "code",
   "execution_count": 8,
   "metadata": {},
   "outputs": [],
   "source": [
    "#测试模型\n",
    "def evaluate(model, g, features, labels, mask):\n",
    "    model.eval()#会通知所有图层您处于评估模式\n",
    "    with th.no_grad():\n",
    "        logits = model(g, features)\n",
    "        logits = logits[mask]\n",
    "        labels = labels[mask]\n",
    "        _, indices = th.max(logits, dim=1)\n",
    "        correct = th.sum(indices == labels)\n",
    "        return correct.item() * 1.0 / len(labels)\n"
   ]
  },
  {
   "cell_type": "code",
   "execution_count": 9,
   "metadata": {},
   "outputs": [
    {
     "name": "stdout",
     "output_type": "stream",
     "text": [
      "Loading from cache failed, re-processing.\n",
      "Finished data loading and preprocessing.\n",
      "  NumNodes: 2708\n",
      "  NumEdges: 10556\n",
      "  NumFeats: 1433\n",
      "  NumClasses: 7\n",
      "  NumTrainingSamples: 140\n",
      "  NumValidationSamples: 500\n",
      "  NumTestSamples: 1000\n",
      "Done saving data into cached files.\n",
      "0\n",
      "Epoch 00000 | Loss 1.9615 | Test Acc 0.1050 | Time(s) nan\n",
      "1\n",
      "Epoch 00001 | Loss 1.9425 | Test Acc 0.1380 | Time(s) nan\n",
      "2\n",
      "Epoch 00002 | Loss 1.9244 | Test Acc 0.1570 | Time(s) nan\n",
      "3\n"
     ]
    },
    {
     "name": "stderr",
     "output_type": "stream",
     "text": [
      "/root/anaconda3/lib/python3.7/site-packages/dgl/data/utils.py:285: UserWarning: Property dataset.feat will be deprecated, please use g.ndata['feat'] instead.\n",
      "  warnings.warn('Property {} will be deprecated, please use {} instead.'.format(old, new))\n",
      "/root/anaconda3/lib/python3.7/site-packages/dgl/data/utils.py:285: UserWarning: Property dataset.label will be deprecated, please use g.ndata['label'] instead.\n",
      "  warnings.warn('Property {} will be deprecated, please use {} instead.'.format(old, new))\n",
      "/root/anaconda3/lib/python3.7/site-packages/dgl/data/utils.py:285: UserWarning: Property dataset.train_mask will be deprecated, please use g.ndata['train_mask'] instead.\n",
      "  warnings.warn('Property {} will be deprecated, please use {} instead.'.format(old, new))\n",
      "/root/anaconda3/lib/python3.7/site-packages/dgl/data/utils.py:285: UserWarning: Property dataset.test_mask will be deprecated, please use g.ndata['test_mask'] instead.\n",
      "  warnings.warn('Property {} will be deprecated, please use {} instead.'.format(old, new))\n",
      "/root/anaconda3/lib/python3.7/site-packages/dgl/data/utils.py:285: UserWarning: Property dataset.graph will be deprecated, please use dataset[0] instead.\n",
      "  warnings.warn('Property {} will be deprecated, please use {} instead.'.format(old, new))\n",
      "/root/anaconda3/lib/python3.7/site-packages/dgl/base.py:45: DGLWarning: Recommend creating graphs by `dgl.graph(data)` instead of `dgl.DGLGraph(data)`.\n",
      "  return warnings.warn(message, category=category, stacklevel=1)\n",
      "/root/anaconda3/lib/python3.7/site-packages/numpy/core/fromnumeric.py:3373: RuntimeWarning: Mean of empty slice.\n",
      "  out=out, **kwargs)\n",
      "/root/anaconda3/lib/python3.7/site-packages/numpy/core/_methods.py:170: RuntimeWarning: invalid value encountered in double_scalars\n",
      "  ret = ret.dtype.type(ret / rcount)\n"
     ]
    },
    {
     "name": "stdout",
     "output_type": "stream",
     "text": [
      "Epoch 00003 | Loss 1.9069 | Test Acc 0.1800 | Time(s) 0.0142\n",
      "4\n",
      "Epoch 00004 | Loss 1.8877 | Test Acc 0.1990 | Time(s) 0.0127\n",
      "5\n",
      "Epoch 00005 | Loss 1.8678 | Test Acc 0.2650 | Time(s) 0.0121\n",
      "6\n",
      "Epoch 00006 | Loss 1.8476 | Test Acc 0.3030 | Time(s) 0.0124\n",
      "7\n",
      "Epoch 00007 | Loss 1.8273 | Test Acc 0.3170 | Time(s) 0.0119\n",
      "8\n",
      "Epoch 00008 | Loss 1.8070 | Test Acc 0.3430 | Time(s) 0.0116\n",
      "9\n",
      "Epoch 00009 | Loss 1.7859 | Test Acc 0.3640 | Time(s) 0.0117\n",
      "10\n",
      "Epoch 00010 | Loss 1.7642 | Test Acc 0.3840 | Time(s) 0.0115\n",
      "11\n",
      "Epoch 00011 | Loss 1.7429 | Test Acc 0.4020 | Time(s) 0.0113\n",
      "12\n",
      "Epoch 00012 | Loss 1.7218 | Test Acc 0.4260 | Time(s) 0.0115\n",
      "13\n",
      "Epoch 00013 | Loss 1.7007 | Test Acc 0.4430 | Time(s) 0.0113\n",
      "14\n",
      "Epoch 00014 | Loss 1.6792 | Test Acc 0.4670 | Time(s) 0.0112\n",
      "15\n",
      "Epoch 00015 | Loss 1.6581 | Test Acc 0.4880 | Time(s) 0.0113\n",
      "16\n",
      "Epoch 00016 | Loss 1.6376 | Test Acc 0.5100 | Time(s) 0.0112\n",
      "17\n",
      "Epoch 00017 | Loss 1.6174 | Test Acc 0.5270 | Time(s) 0.0111\n",
      "18\n",
      "Epoch 00018 | Loss 1.5977 | Test Acc 0.5350 | Time(s) 0.0111\n",
      "19\n",
      "Epoch 00019 | Loss 1.5784 | Test Acc 0.5570 | Time(s) 0.0111\n",
      "20\n",
      "Epoch 00020 | Loss 1.5594 | Test Acc 0.5660 | Time(s) 0.0112\n",
      "21\n",
      "Epoch 00021 | Loss 1.5409 | Test Acc 0.5760 | Time(s) 0.0111\n",
      "22\n",
      "Epoch 00022 | Loss 1.5228 | Test Acc 0.5940 | Time(s) 0.0111\n",
      "23\n",
      "Epoch 00023 | Loss 1.5051 | Test Acc 0.6040 | Time(s) 0.0111\n",
      "24\n",
      "Epoch 00024 | Loss 1.4877 | Test Acc 0.6180 | Time(s) 0.0111\n",
      "25\n",
      "Epoch 00025 | Loss 1.4707 | Test Acc 0.6300 | Time(s) 0.0110\n",
      "26\n",
      "Epoch 00026 | Loss 1.4540 | Test Acc 0.6360 | Time(s) 0.0111\n",
      "27\n",
      "Epoch 00027 | Loss 1.4377 | Test Acc 0.6510 | Time(s) 0.0110\n",
      "28\n",
      "Epoch 00028 | Loss 1.4217 | Test Acc 0.6580 | Time(s) 0.0110\n",
      "29\n",
      "Epoch 00029 | Loss 1.4059 | Test Acc 0.6690 | Time(s) 0.0111\n",
      "30\n",
      "Epoch 00030 | Loss 1.3904 | Test Acc 0.6710 | Time(s) 0.0110\n",
      "31\n",
      "Epoch 00031 | Loss 1.3750 | Test Acc 0.6690 | Time(s) 0.0110\n",
      "32\n",
      "Epoch 00032 | Loss 1.3599 | Test Acc 0.6730 | Time(s) 0.0111\n",
      "33\n",
      "Epoch 00033 | Loss 1.3450 | Test Acc 0.6790 | Time(s) 0.0110\n",
      "34\n",
      "Epoch 00034 | Loss 1.3302 | Test Acc 0.6840 | Time(s) 0.0110\n",
      "35\n",
      "Epoch 00035 | Loss 1.3156 | Test Acc 0.6900 | Time(s) 0.0113\n",
      "36\n",
      "Epoch 00036 | Loss 1.3012 | Test Acc 0.6950 | Time(s) 0.0113\n",
      "37\n",
      "Epoch 00037 | Loss 1.2869 | Test Acc 0.6990 | Time(s) 0.0113\n",
      "38\n",
      "Epoch 00038 | Loss 1.2727 | Test Acc 0.7000 | Time(s) 0.0113\n",
      "39\n",
      "Epoch 00039 | Loss 1.2586 | Test Acc 0.7000 | Time(s) 0.0113\n",
      "40\n",
      "Epoch 00040 | Loss 1.2447 | Test Acc 0.6990 | Time(s) 0.0113\n",
      "41\n",
      "Epoch 00041 | Loss 1.2309 | Test Acc 0.7020 | Time(s) 0.0113\n",
      "42\n",
      "Epoch 00042 | Loss 1.2172 | Test Acc 0.7020 | Time(s) 0.0113\n",
      "43\n",
      "Epoch 00043 | Loss 1.2036 | Test Acc 0.7030 | Time(s) 0.0113\n",
      "44\n",
      "Epoch 00044 | Loss 1.1901 | Test Acc 0.7020 | Time(s) 0.0113\n",
      "45\n",
      "Epoch 00045 | Loss 1.1767 | Test Acc 0.6990 | Time(s) 0.0113\n",
      "46\n",
      "Epoch 00046 | Loss 1.1634 | Test Acc 0.7010 | Time(s) 0.0113\n",
      "47\n",
      "Epoch 00047 | Loss 1.1502 | Test Acc 0.7010 | Time(s) 0.0113\n",
      "48\n",
      "Epoch 00048 | Loss 1.1372 | Test Acc 0.7030 | Time(s) 0.0113\n",
      "49\n",
      "Epoch 00049 | Loss 1.1242 | Test Acc 0.7040 | Time(s) 0.0112\n",
      "50\n",
      "Epoch 00050 | Loss 1.1114 | Test Acc 0.7050 | Time(s) 0.0113\n",
      "51\n",
      "Epoch 00051 | Loss 1.0986 | Test Acc 0.7060 | Time(s) 0.0113\n",
      "52\n",
      "Epoch 00052 | Loss 1.0860 | Test Acc 0.7080 | Time(s) 0.0112\n",
      "53\n",
      "Epoch 00053 | Loss 1.0734 | Test Acc 0.7070 | Time(s) 0.0113\n",
      "54\n",
      "Epoch 00054 | Loss 1.0610 | Test Acc 0.7060 | Time(s) 0.0112\n",
      "55\n",
      "Epoch 00055 | Loss 1.0487 | Test Acc 0.7080 | Time(s) 0.0112\n",
      "56\n",
      "Epoch 00056 | Loss 1.0365 | Test Acc 0.7100 | Time(s) 0.0112\n",
      "57\n",
      "Epoch 00057 | Loss 1.0244 | Test Acc 0.7100 | Time(s) 0.0112\n",
      "58\n",
      "Epoch 00058 | Loss 1.0124 | Test Acc 0.7140 | Time(s) 0.0112\n",
      "59\n",
      "Epoch 00059 | Loss 1.0005 | Test Acc 0.7160 | Time(s) 0.0112\n",
      "60\n",
      "Epoch 00060 | Loss 0.9888 | Test Acc 0.7150 | Time(s) 0.0112\n",
      "61\n",
      "Epoch 00061 | Loss 0.9771 | Test Acc 0.7170 | Time(s) 0.0112\n",
      "62\n",
      "Epoch 00062 | Loss 0.9656 | Test Acc 0.7200 | Time(s) 0.0112\n",
      "63\n",
      "Epoch 00063 | Loss 0.9542 | Test Acc 0.7200 | Time(s) 0.0112\n",
      "64\n",
      "Epoch 00064 | Loss 0.9428 | Test Acc 0.7200 | Time(s) 0.0112\n",
      "65\n",
      "Epoch 00065 | Loss 0.9316 | Test Acc 0.7220 | Time(s) 0.0112\n",
      "66\n",
      "Epoch 00066 | Loss 0.9205 | Test Acc 0.7240 | Time(s) 0.0112\n",
      "67\n",
      "Epoch 00067 | Loss 0.9096 | Test Acc 0.7250 | Time(s) 0.0112\n",
      "68\n",
      "Epoch 00068 | Loss 0.8987 | Test Acc 0.7250 | Time(s) 0.0112\n",
      "69\n",
      "Epoch 00069 | Loss 0.8880 | Test Acc 0.7270 | Time(s) 0.0112\n",
      "70\n",
      "Epoch 00070 | Loss 0.8774 | Test Acc 0.7260 | Time(s) 0.0112\n",
      "71\n",
      "Epoch 00071 | Loss 0.8669 | Test Acc 0.7270 | Time(s) 0.0112\n",
      "72\n",
      "Epoch 00072 | Loss 0.8565 | Test Acc 0.7270 | Time(s) 0.0112\n",
      "73\n",
      "Epoch 00073 | Loss 0.8462 | Test Acc 0.7280 | Time(s) 0.0112\n",
      "74\n",
      "Epoch 00074 | Loss 0.8360 | Test Acc 0.7280 | Time(s) 0.0112\n",
      "75\n",
      "Epoch 00075 | Loss 0.8260 | Test Acc 0.7290 | Time(s) 0.0112\n",
      "76\n",
      "Epoch 00076 | Loss 0.8161 | Test Acc 0.7300 | Time(s) 0.0111\n",
      "77\n",
      "Epoch 00077 | Loss 0.8062 | Test Acc 0.7290 | Time(s) 0.0112\n",
      "78\n",
      "Epoch 00078 | Loss 0.7965 | Test Acc 0.7300 | Time(s) 0.0111\n",
      "79\n",
      "Epoch 00079 | Loss 0.7869 | Test Acc 0.7320 | Time(s) 0.0111\n",
      "80\n",
      "Epoch 00080 | Loss 0.7775 | Test Acc 0.7330 | Time(s) 0.0112\n",
      "81\n",
      "Epoch 00081 | Loss 0.7681 | Test Acc 0.7370 | Time(s) 0.0112\n",
      "82\n",
      "Epoch 00082 | Loss 0.7588 | Test Acc 0.7370 | Time(s) 0.0112\n",
      "83\n",
      "Epoch 00083 | Loss 0.7497 | Test Acc 0.7350 | Time(s) 0.0112\n",
      "84\n",
      "Epoch 00084 | Loss 0.7406 | Test Acc 0.7360 | Time(s) 0.0112\n",
      "85\n",
      "Epoch 00085 | Loss 0.7317 | Test Acc 0.7370 | Time(s) 0.0111\n",
      "86\n",
      "Epoch 00086 | Loss 0.7229 | Test Acc 0.7380 | Time(s) 0.0112\n",
      "87\n",
      "Epoch 00087 | Loss 0.7142 | Test Acc 0.7390 | Time(s) 0.0111\n",
      "88\n",
      "Epoch 00088 | Loss 0.7057 | Test Acc 0.7400 | Time(s) 0.0111\n",
      "89\n",
      "Epoch 00089 | Loss 0.6972 | Test Acc 0.7390 | Time(s) 0.0112\n",
      "90\n",
      "Epoch 00090 | Loss 0.6888 | Test Acc 0.7390 | Time(s) 0.0111\n",
      "91\n",
      "Epoch 00091 | Loss 0.6806 | Test Acc 0.7400 | Time(s) 0.0111\n",
      "92\n",
      "Epoch 00092 | Loss 0.6725 | Test Acc 0.7410 | Time(s) 0.0112\n",
      "93\n",
      "Epoch 00093 | Loss 0.6645 | Test Acc 0.7430 | Time(s) 0.0111\n",
      "94\n",
      "Epoch 00094 | Loss 0.6565 | Test Acc 0.7430 | Time(s) 0.0111\n",
      "95\n",
      "Epoch 00095 | Loss 0.6487 | Test Acc 0.7430 | Time(s) 0.0112\n",
      "96\n",
      "Epoch 00096 | Loss 0.6410 | Test Acc 0.7410 | Time(s) 0.0111\n",
      "97\n",
      "Epoch 00097 | Loss 0.6334 | Test Acc 0.7420 | Time(s) 0.0111\n",
      "98\n",
      "Epoch 00098 | Loss 0.6260 | Test Acc 0.7430 | Time(s) 0.0112\n",
      "99\n",
      "Epoch 00099 | Loss 0.6186 | Test Acc 0.7420 | Time(s) 0.0111\n"
     ]
    }
   ],
   "source": [
    "\n",
    "#训练网络\n",
    "import time\n",
    "import numpy as np\n",
    "g, features, labels, train_mask, test_mask = load_cora_data()\n",
    "\n",
    "#定义优化器\n",
    "optimizer=th.optim.Adam(net.parameters(),lr=1e-3)\n",
    "dur=[]#时间\n",
    "for epoch in range(100):\n",
    "    print(epoch)\n",
    "    if epoch>=3:\n",
    "        t0=time.time()\n",
    "    net.train()\n",
    "    logits = net(g, features)\n",
    "    logp = F.log_softmax(logits, 1)\n",
    "    loss = F.nll_loss(logp[train_mask], labels[train_mask])\n",
    " \n",
    "    optimizer.zero_grad()\n",
    "    loss.backward()\n",
    "    optimizer.step()\n",
    " \n",
    "    if epoch >=3:\n",
    "        dur.append(time.time() - t0)\n",
    " \n",
    "    acc = evaluate(net, g, features, labels, test_mask)\n",
    "    print(\"Epoch {:05d} | Loss {:.4f} | Test Acc {:.4f} | Time(s) {:.4f}\".format(\n",
    "            epoch, loss.item(), acc, np.mean(dur)))\n"
   ]
  },
  {
   "cell_type": "code",
   "execution_count": null,
   "metadata": {},
   "outputs": [],
   "source": []
  },
  {
   "cell_type": "code",
   "execution_count": null,
   "metadata": {},
   "outputs": [],
   "source": []
  },
  {
   "cell_type": "code",
   "execution_count": null,
   "metadata": {},
   "outputs": [],
   "source": []
  },
  {
   "cell_type": "code",
   "execution_count": null,
   "metadata": {},
   "outputs": [],
   "source": []
  }
 ],
 "metadata": {
  "kernelspec": {
   "display_name": "Python 3",
   "language": "python",
   "name": "python3"
  },
  "language_info": {
   "codemirror_mode": {
    "name": "ipython",
    "version": 3
   },
   "file_extension": ".py",
   "mimetype": "text/x-python",
   "name": "python",
   "nbconvert_exporter": "python",
   "pygments_lexer": "ipython3",
   "version": "3.7.6"
  }
 },
 "nbformat": 4,
 "nbformat_minor": 4
}
