{
 "cells": [
  {
   "cell_type": "code",
   "execution_count": 2,
   "metadata": {},
   "outputs": [],
   "source": [
    "import tensorflow as tf\n",
    "import matplotlib.pyplot as plt\n",
    "import numpy as np\n",
    "import sklearn\n",
    "import pandas as pd\n",
    "import os\n",
    "import sys\n",
    "import time\n",
    "from tensorflow import keras"
   ]
  },
  {
   "cell_type": "code",
   "execution_count": 3,
   "metadata": {},
   "outputs": [],
   "source": [
    "fashion_mnist = tf.keras.datasets.fashion_mnist\n",
    "(x_train_all,y_train_all),(x_test,y_test)=fashion_mnist.load_data()"
   ]
  },
  {
   "cell_type": "code",
   "execution_count": 4,
   "metadata": {},
   "outputs": [],
   "source": [
    "x_valid,x_train=x_train_all[:5000],x_train_all[5000:]"
   ]
  },
  {
   "cell_type": "code",
   "execution_count": 5,
   "metadata": {},
   "outputs": [
    {
     "name": "stdout",
     "output_type": "stream",
     "text": [
      "(55000, 28, 28)\n",
      "255\n"
     ]
    }
   ],
   "source": [
    "y_valid,y_train=y_train_all[:5000],y_train_all[5000:]\n",
    "print(x_train.shape)\n",
    "print(np.max(x_train))"
   ]
  },
  {
   "cell_type": "code",
   "execution_count": 6,
   "metadata": {},
   "outputs": [],
   "source": [
    "# x=(x-u)/std\n",
    "from sklearn.preprocessing import StandardScaler\n",
    "scaler = StandardScaler()\n",
    "x_train_scaled = scaler.fit_transform(x_train.astype(np.float32).reshape(-1,1)).reshape(-1,28,28)\n",
    "x_valid_scaled = scaler.transform(x_valid.astype(np.float32).reshape(-1,1)).reshape(-1,28,28)\n",
    "x_test_scaled = scaler.transform(x_test.astype(np.float32).reshape(-1,1)).reshape(-1,28,28)"
   ]
  },
  {
   "cell_type": "code",
   "execution_count": 7,
   "metadata": {},
   "outputs": [
    {
     "name": "stdout",
     "output_type": "stream",
     "text": [
      "2.0231433\n"
     ]
    }
   ],
   "source": [
    "print(np.max(x_train_scaled))"
   ]
  },
  {
   "cell_type": "code",
   "execution_count": 8,
   "metadata": {},
   "outputs": [
    {
     "data": {
      "image/png": "[encoded data removed]",
      "text/plain": [
       "<Figure size 504x345.6 with 15 Axes>"
      ]
     },
     "metadata": {
      "needs_background": "light"
     },
     "output_type": "display_data"
    }
   ],
   "source": [
    "def show_single_image(img_arr):\n",
    "    plt.imshow(img_arr,cmap='binary')\n",
    "    plt.show()\n",
    "    \n",
    "def show_imgs(n_rows,n_cols,x_data,y_data,class_names):\n",
    "    assert len(x_data) == len(y_data)\n",
    "    assert n_rows*n_cols < len(x_data)\n",
    "    plt.figure(figsize=(n_cols*1.4,n_rows*1.6))\n",
    "    for row in range(n_rows):\n",
    "        for col in range(n_cols):\n",
    "            index = n_cols*row + col\n",
    "            plt.subplot(n_rows,n_cols,index+1)\n",
    "            plt.imshow(x_data[index],cmap='binary',interpolation='nearest')\n",
    "            plt.axis('off')\n",
    "            plt.title(class_names[y_data[index]])\n",
    "    plt.show()\n",
    "    \n",
    "class_names=['T-shirt','Trouser','Pullover','Dress',\n",
    "             'Coat','Sandal','Shirt','Sneaker','Bag','Ankle boot']\n",
    "show_imgs(3,5,x_train,y_train,class_names)"
   ]
  },
  {
   "cell_type": "code",
   "execution_count": 9,
   "metadata": {},
   "outputs": [],
   "source": [
    "model = keras.models.Sequential()\n",
    "model.add(keras.layers.Flatten(input_shape=[28,28]))\n",
    "model.add(keras.layers.Dense(300,activation='relu'))\n",
    "model.add(keras.layers.Dense(100,activation='relu'))\n",
    "model.add(keras.layers.Dense(10,activation='softmax'))\n",
    "# softmax:将向量变成概率分布 y=[e^x1/sum,e^x2/sum...,sum=e^x1+e^x2+e^x3]\n",
    "# sparse : y->index只是一个数 . y->onehot->[]\n",
    "model.compile(loss='sparse_categorical_crossentropy',optimizer='sgd',\n",
    "             metrics=['accuracy'])"
   ]
  },
  {
   "cell_type": "code",
   "execution_count": 10,
   "metadata": {},
   "outputs": [
    {
     "data": {
      "text/plain": [
       "[<tensorflow.python.keras.layers.core.Flatten at 0x7f900af6bdd0>,\n",
       " <tensorflow.python.keras.layers.core.Dense at 0x7f900fb4dc90>,\n",
       " <tensorflow.python.keras.layers.core.Dense at 0x7f900e47f450>,\n",
       " <tensorflow.python.keras.layers.core.Dense at 0x7f900a267ad0>]"
      ]
     },
     "execution_count": 10,
     "metadata": {},
     "output_type": "execute_result"
    }
   ],
   "source": [
    "model.layers"
   ]
  },
  {
   "cell_type": "code",
   "execution_count": 11,
   "metadata": {},
   "outputs": [
    {
     "name": "stdout",
     "output_type": "stream",
     "text": [
      "Model: \"sequential\"\n",
      "_________________________________________________________________\n",
      "Layer (type)                 Output Shape              Param #   \n",
      "=================================================================\n",
      "flatten (Flatten)            (None, 784)               0         \n",
      "_________________________________________________________________\n",
      "dense (Dense)                (None, 300)               235500    \n",
      "_________________________________________________________________\n",
      "dense_1 (Dense)              (None, 100)               30100     \n",
      "_________________________________________________________________\n",
      "dense_2 (Dense)              (None, 10)                1010      \n",
      "=================================================================\n",
      "Total params: 266,610\n",
      "Trainable params: 266,610\n",
      "Non-trainable params: 0\n",
      "_________________________________________________________________\n"
     ]
    }
   ],
   "source": [
    "model.summary()"
   ]
  },
  {
   "cell_type": "code",
   "execution_count": 12,
   "metadata": {},
   "outputs": [
    {
     "name": "stdout",
     "output_type": "stream",
     "text": [
      "Train on 55000 samples, validate on 5000 samples\n",
      "Epoch 1/10\n",
      "55000/55000 [==============================] - 7s 121us/sample - loss: 0.5385 - accuracy: 0.8110 - val_loss: 0.4024 - val_accuracy: 0.8576\n",
      "Epoch 2/10\n",
      "55000/55000 [==============================] - 5s 96us/sample - loss: 0.3921 - accuracy: 0.8595 - val_loss: 0.3712 - val_accuracy: 0.8686\n",
      "Epoch 3/10\n",
      "55000/55000 [==============================] - 5s 90us/sample - loss: 0.3526 - accuracy: 0.8723 - val_loss: 0.3560 - val_accuracy: 0.8740\n",
      "Epoch 4/10\n",
      "55000/55000 [==============================] - 5s 95us/sample - loss: 0.3286 - accuracy: 0.8812 - val_loss: 0.3343 - val_accuracy: 0.8812\n",
      "Epoch 5/10\n",
      "55000/55000 [==============================] - 5s 100us/sample - loss: 0.3089 - accuracy: 0.8887 - val_loss: 0.3217 - val_accuracy: 0.8850\n",
      "Epoch 6/10\n",
      "55000/55000 [==============================] - 5s 96us/sample - loss: 0.2928 - accuracy: 0.8936 - val_loss: 0.3199 - val_accuracy: 0.8838\n",
      "Epoch 7/10\n",
      "55000/55000 [==============================] - 5s 100us/sample - loss: 0.2795 - accuracy: 0.8978 - val_loss: 0.3179 - val_accuracy: 0.8856\n",
      "Epoch 8/10\n",
      "55000/55000 [==============================] - 5s 100us/sample - loss: 0.2665 - accuracy: 0.9035 - val_loss: 0.3047 - val_accuracy: 0.8864\n",
      "Epoch 9/10\n",
      "55000/55000 [==============================] - 6s 103us/sample - loss: 0.2551 - accuracy: 0.9074 - val_loss: 0.3096 - val_accuracy: 0.8878\n",
      "Epoch 10/10\n",
      "55000/55000 [==============================] - 5s 95us/sample - loss: 0.2455 - accuracy: 0.9111 - val_loss: 0.3003 - val_accuracy: 0.8894\n"
     ]
    }
   ],
   "source": [
    "# Tensorboard earlystopping modelcheckpoint\n",
    "# logdir = './graph_def_and_weights'\n",
    "# if not os.path.exists(logdir):\n",
    "#     os.mkdir(logdir)\n",
    "# output_model_file = os.path.join(logdir,'fashion_mnist_model.h5')\n",
    "\n",
    "\n",
    "# [None,784] * w +b ->[None,300] w.shape [784,300] ,b=[300]\n",
    "history=model.fit(x_train_scaled,y_train,epochs=10,\n",
    "                  validation_data=(x_valid_scaled,y_valid))"
   ]
  },
  {
   "cell_type": "code",
   "execution_count": 13,
   "metadata": {},
   "outputs": [
    {
     "data": {
      "text/plain": [
       "tensorflow.python.keras.callbacks.History"
      ]
     },
     "execution_count": 13,
     "metadata": {},
     "output_type": "execute_result"
    }
   ],
   "source": [
    "type(history)"
   ]
  },
  {
   "cell_type": "code",
   "execution_count": 14,
   "metadata": {},
   "outputs": [
    {
     "data": {
      "image/png": "[encoded data removed]",
      "text/plain": [
       "<Figure size 576x360 with 1 Axes>"
      ]
     },
     "metadata": {
      "needs_background": "light"
     },
     "output_type": "display_data"
    }
   ],
   "source": [
    "def plot_learning_curves(history):\n",
    "    pd.DataFrame(history.history).plot(figsize=(8,5))\n",
    "    plt.grid(True)\n",
    "    plt.gca().set_ylim(0,1)\n",
    "    plt.show()\n",
    "plot_learning_curves(history)"
   ]
  },
  {
   "cell_type": "code",
   "execution_count": 15,
   "metadata": {},
   "outputs": [
    {
     "name": "stdout",
     "output_type": "stream",
     "text": [
      "WARNING:tensorflow:From /root/anaconda3/lib/python3.7/site-packages/tensorflow_core/python/ops/resource_variable_ops.py:1781: calling BaseResourceVariable.__init__ (from tensorflow.python.ops.resource_variable_ops) with constraint is deprecated and will be removed in a future version.\n",
      "Instructions for updating:\n",
      "If using Keras pass *_constraint arguments to layers.\n",
      "INFO:tensorflow:Assets written to: ./saved_model/assets\n"
     ]
    }
   ],
   "source": [
    "tf.saved_model.save(model,'./saved_model')"
   ]
  },
  {
   "cell_type": "code",
   "execution_count": 17,
   "metadata": {},
   "outputs": [
    {
     "name": "stdout",
     "output_type": "stream",
     "text": [
      "\n",
      "MetaGraphDef with tag-set: 'serve' contains the following SignatureDefs:\n",
      "\n",
      "signature_def['__saved_model_init_op']:\n",
      "  The given SavedModel SignatureDef contains the following input(s):\n",
      "  The given SavedModel SignatureDef contains the following output(s):\n",
      "    outputs['__saved_model_init_op'] tensor_info:\n",
      "        dtype: DT_INVALID\n",
      "        shape: unknown_rank\n",
      "        name: NoOp\n",
      "  Method name is: \n",
      "\n",
      "signature_def['serving_default']:\n",
      "  The given SavedModel SignatureDef contains the following input(s):\n",
      "    inputs['flatten_input'] tensor_info:\n",
      "        dtype: DT_FLOAT\n",
      "        shape: (-1, 28, 28)\n",
      "        name: serving_default_flatten_input:0\n",
      "  The given SavedModel SignatureDef contains the following output(s):\n",
      "    outputs['dense_2'] tensor_info:\n",
      "        dtype: DT_FLOAT\n",
      "        shape: (-1, 10)\n",
      "        name: StatefulPartitionedCall:0\n",
      "  Method name is: tensorflow/serving/predict\n"
     ]
    }
   ],
   "source": [
    "!saved_model_cli show --dir ./saved_model/ --all"
   ]
  },
  {
   "cell_type": "code",
   "execution_count": 20,
   "metadata": {},
   "outputs": [
    {
     "name": "stdout",
     "output_type": "stream",
     "text": [
      "The given SavedModel SignatureDef contains the following input(s):\n",
      "  inputs['flatten_input'] tensor_info:\n",
      "      dtype: DT_FLOAT\n",
      "      shape: (-1, 28, 28)\n",
      "      name: serving_default_flatten_input:0\n",
      "The given SavedModel SignatureDef contains the following output(s):\n",
      "  outputs['dense_2'] tensor_info:\n",
      "      dtype: DT_FLOAT\n",
      "      shape: (-1, 10)\n",
      "      name: StatefulPartitionedCall:0\n",
      "Method name is: tensorflow/serving/predict\n"
     ]
    }
   ],
   "source": [
    "!saved_model_cli show --dir ./saved_model/ --tag_set serve --signature_def serving_default"
   ]
  },
  {
   "cell_type": "code",
   "execution_count": 21,
   "metadata": {},
   "outputs": [
    {
     "name": "stdout",
     "output_type": "stream",
     "text": [
      "2020-11-19 12:21:57.073617: I tensorflow/stream_executor/platform/default/dso_loader.cc:44] Successfully opened dynamic library libcuda.so.1\n",
      "2020-11-19 12:21:57.093399: I tensorflow/core/common_runtime/gpu/gpu_device.cc:1618] Found device 0 with properties: \n",
      "name: Tesla P100-PCIE-16GB major: 6 minor: 0 memoryClockRate(GHz): 1.3285\n",
      "pciBusID: 0000:02:00.0\n",
      "2020-11-19 12:21:57.094698: I tensorflow/core/common_runtime/gpu/gpu_device.cc:1618] Found device 1 with properties: \n",
      "name: Tesla P100-PCIE-16GB major: 6 minor: 0 memoryClockRate(GHz): 1.3285\n",
      "pciBusID: 0000:03:00.0\n",
      "2020-11-19 12:21:57.095764: I tensorflow/core/common_runtime/gpu/gpu_device.cc:1618] Found device 2 with properties: \n",
      "name: Tesla P100-PCIE-16GB major: 6 minor: 0 memoryClockRate(GHz): 1.3285\n",
      "pciBusID: 0000:82:00.0\n",
      "2020-11-19 12:21:57.096729: I tensorflow/core/common_runtime/gpu/gpu_device.cc:1618] Found device 3 with properties: \n",
      "name: Tesla P100-PCIE-16GB major: 6 minor: 0 memoryClockRate(GHz): 1.3285\n",
      "pciBusID: 0000:83:00.0\n",
      "2020-11-19 12:21:57.096939: I tensorflow/stream_executor/platform/default/dso_loader.cc:44] Successfully opened dynamic library libcudart.so.10.0\n",
      "2020-11-19 12:21:57.098601: I tensorflow/stream_executor/platform/default/dso_loader.cc:44] Successfully opened dynamic library libcublas.so.10.0\n",
      "2020-11-19 12:21:57.099880: I tensorflow/stream_executor/platform/default/dso_loader.cc:44] Successfully opened dynamic library libcufft.so.10.0\n",
      "2020-11-19 12:21:57.100167: I tensorflow/stream_executor/platform/default/dso_loader.cc:44] Successfully opened dynamic library libcurand.so.10.0\n",
      "2020-11-19 12:21:57.101834: I tensorflow/stream_executor/platform/default/dso_loader.cc:44] Successfully opened dynamic library libcusolver.so.10.0\n",
      "2020-11-19 12:21:57.103238: I tensorflow/stream_executor/platform/default/dso_loader.cc:44] Successfully opened dynamic library libcusparse.so.10.0\n",
      "2020-11-19 12:21:57.108033: I tensorflow/stream_executor/platform/default/dso_loader.cc:44] Successfully opened dynamic library libcudnn.so.7\n",
      "2020-11-19 12:21:57.116324: I tensorflow/core/common_runtime/gpu/gpu_device.cc:1746] Adding visible gpu devices: 0, 1, 2, 3\n",
      "2020-11-19 12:21:57.116726: I tensorflow/core/platform/cpu_feature_guard.cc:142] Your CPU supports instructions that this TensorFlow binary was not compiled to use: AVX2 FMA\n",
      "2020-11-19 12:21:57.150091: I tensorflow/core/platform/profile_utils/cpu_utils.cc:94] CPU Frequency: 2000074999 Hz\n",
      "2020-11-19 12:21:57.155173: I tensorflow/compiler/xla/service/service.cc:168] XLA service 0x55ed70708220 executing computations on platform Host. Devices:\n",
      "2020-11-19 12:21:57.155211: I tensorflow/compiler/xla/service/service.cc:175]   StreamExecutor device (0): Host, Default Version\n",
      "2020-11-19 12:21:57.818972: I tensorflow/compiler/xla/service/service.cc:168] XLA service 0x55ed7076acf0 executing computations on platform CUDA. Devices:\n",
      "2020-11-19 12:21:57.819026: I tensorflow/compiler/xla/service/service.cc:175]   StreamExecutor device (0): Tesla P100-PCIE-16GB, Compute Capability 6.0\n",
      "2020-11-19 12:21:57.819043: I tensorflow/compiler/xla/service/service.cc:175]   StreamExecutor device (1): Tesla P100-PCIE-16GB, Compute Capability 6.0\n",
      "2020-11-19 12:21:57.819057: I tensorflow/compiler/xla/service/service.cc:175]   StreamExecutor device (2): Tesla P100-PCIE-16GB, Compute Capability 6.0\n",
      "2020-11-19 12:21:57.819070: I tensorflow/compiler/xla/service/service.cc:175]   StreamExecutor device (3): Tesla P100-PCIE-16GB, Compute Capability 6.0\n",
      "2020-11-19 12:21:57.822137: I tensorflow/core/common_runtime/gpu/gpu_device.cc:1618] Found device 0 with properties: \n",
      "name: Tesla P100-PCIE-16GB major: 6 minor: 0 memoryClockRate(GHz): 1.3285\n",
      "pciBusID: 0000:02:00.0\n",
      "2020-11-19 12:21:57.824384: I tensorflow/core/common_runtime/gpu/gpu_device.cc:1618] Found device 1 with properties: \n",
      "name: Tesla P100-PCIE-16GB major: 6 minor: 0 memoryClockRate(GHz): 1.3285\n",
      "pciBusID: 0000:03:00.0\n",
      "2020-11-19 12:21:57.826008: I tensorflow/core/common_runtime/gpu/gpu_device.cc:1618] Found device 2 with properties: \n",
      "name: Tesla P100-PCIE-16GB major: 6 minor: 0 memoryClockRate(GHz): 1.3285\n",
      "pciBusID: 0000:82:00.0\n",
      "2020-11-19 12:21:57.827680: I tensorflow/core/common_runtime/gpu/gpu_device.cc:1618] Found device 3 with properties: \n",
      "name: Tesla P100-PCIE-16GB major: 6 minor: 0 memoryClockRate(GHz): 1.3285\n",
      "pciBusID: 0000:83:00.0\n",
      "2020-11-19 12:21:57.827756: I tensorflow/stream_executor/platform/default/dso_loader.cc:44] Successfully opened dynamic library libcudart.so.10.0\n",
      "2020-11-19 12:21:57.827790: I tensorflow/stream_executor/platform/default/dso_loader.cc:44] Successfully opened dynamic library libcublas.so.10.0\n",
      "2020-11-19 12:21:57.827819: I tensorflow/stream_executor/platform/default/dso_loader.cc:44] Successfully opened dynamic library libcufft.so.10.0\n",
      "2020-11-19 12:21:57.827846: I tensorflow/stream_executor/platform/default/dso_loader.cc:44] Successfully opened dynamic library libcurand.so.10.0\n",
      "2020-11-19 12:21:57.827873: I tensorflow/stream_executor/platform/default/dso_loader.cc:44] Successfully opened dynamic library libcusolver.so.10.0\n",
      "2020-11-19 12:21:57.827900: I tensorflow/stream_executor/platform/default/dso_loader.cc:44] Successfully opened dynamic library libcusparse.so.10.0\n",
      "2020-11-19 12:21:57.827928: I tensorflow/stream_executor/platform/default/dso_loader.cc:44] Successfully opened dynamic library libcudnn.so.7\n",
      "2020-11-19 12:21:57.839181: I tensorflow/core/common_runtime/gpu/gpu_device.cc:1746] Adding visible gpu devices: 0, 1, 2, 3\n",
      "2020-11-19 12:21:57.839231: I tensorflow/stream_executor/platform/default/dso_loader.cc:44] Successfully opened dynamic library libcudart.so.10.0\n",
      "2020-11-19 12:21:57.845027: I tensorflow/core/common_runtime/gpu/gpu_device.cc:1159] Device interconnect StreamExecutor with strength 1 edge matrix:\n",
      "2020-11-19 12:21:57.845051: I tensorflow/core/common_runtime/gpu/gpu_device.cc:1165]      0 1 2 3 \n",
      "2020-11-19 12:21:57.845062: I tensorflow/core/common_runtime/gpu/gpu_device.cc:1178] 0:   N Y N N \n",
      "2020-11-19 12:21:57.845071: I tensorflow/core/common_runtime/gpu/gpu_device.cc:1178] 1:   Y N N N \n",
      "2020-11-19 12:21:57.845079: I tensorflow/core/common_runtime/gpu/gpu_device.cc:1178] 2:   N N N Y \n",
      "2020-11-19 12:21:57.845087: I tensorflow/core/common_runtime/gpu/gpu_device.cc:1178] 3:   N N Y N \n",
      "2020-11-19 12:21:57.851067: I tensorflow/core/common_runtime/gpu/gpu_device.cc:1304] Created TensorFlow device (/job:localhost/replica:0/task:0/device:GPU:0 with 199 MB memory) -> physical GPU (device: 0, name: Tesla P100-PCIE-16GB, pci bus id: 0000:02:00.0, compute capability: 6.0)\n",
      "2020-11-19 12:21:57.853378: I tensorflow/core/common_runtime/gpu/gpu_device.cc:1304] Created TensorFlow device (/job:localhost/replica:0/task:0/device:GPU:1 with 6855 MB memory) -> physical GPU (device: 1, name: Tesla P100-PCIE-16GB, pci bus id: 0000:03:00.0, compute capability: 6.0)\n",
      "2020-11-19 12:21:57.855228: I tensorflow/core/common_runtime/gpu/gpu_device.cc:1304] Created TensorFlow device (/job:localhost/replica:0/task:0/device:GPU:2 with 32 MB memory) -> physical GPU (device: 2, name: Tesla P100-PCIE-16GB, pci bus id: 0000:82:00.0, compute capability: 6.0)\n",
      "2020-11-19 12:21:57.857178: I tensorflow/core/common_runtime/gpu/gpu_device.cc:1304] Created TensorFlow device (/job:localhost/replica:0/task:0/device:GPU:3 with 32 MB memory) -> physical GPU (device: 3, name: Tesla P100-PCIE-16GB, pci bus id: 0000:83:00.0, compute capability: 6.0)\n",
      "WARNING:tensorflow:From /root/anaconda3/lib/python3.7/site-packages/tensorflow_core/python/tools/saved_model_cli.py:339: load (from tensorflow.python.saved_model.loader_impl) is deprecated and will be removed in a future version.\n",
      "Instructions for updating:\n",
      "This function will only be available through the v1 compatibility library as tf.compat.v1.saved_model.loader.load or tf.compat.v1.saved_model.load. There will be a new function for importing SavedModels in Tensorflow 2.0.\n",
      "2020-11-19 12:21:59.248730: I tensorflow/stream_executor/platform/default/dso_loader.cc:44] Successfully opened dynamic library libcublas.so.10.0\n",
      "Result for output key dense_2:\n",
      "[[0.09096146 0.08156507 0.2801837  0.01292364 0.05352833 0.02688457\n",
      "  0.09433766 0.07025088 0.21708085 0.0722838 ]\n",
      " [0.09096146 0.08156507 0.2801837  0.01292364 0.05352833 0.02688457\n",
      "  0.09433766 0.07025088 0.21708085 0.0722838 ]]\n"
     ]
    }
   ],
   "source": [
    "!saved_model_cli run --dir ./saved_model/ --tag_set serve \\\n",
    "    --signature_def serving_default \\\n",
    "    --input_exprs 'flatten_input=np.ones((2,28,28))'"
   ]
  },
  {
   "cell_type": "code",
   "execution_count": 22,
   "metadata": {},
   "outputs": [
    {
     "name": "stdout",
     "output_type": "stream",
     "text": [
      "['serving_default']\n"
     ]
    }
   ],
   "source": [
    "loaded_saved_model = tf.saved_model.load('./saved_model/')\n",
    "print(list(loaded_saved_model.signatures.keys()))"
   ]
  },
  {
   "cell_type": "code",
   "execution_count": 25,
   "metadata": {},
   "outputs": [
    {
     "name": "stdout",
     "output_type": "stream",
     "text": [
      "{'dense_2': TensorSpec(shape=(None, 10), dtype=tf.float32, name='dense_2')}\n"
     ]
    }
   ],
   "source": [
    "inference = loaded_saved_model.signatures['serving_default']\n",
    "print(inference.structured_outputs)"
   ]
  },
  {
   "cell_type": "code",
   "execution_count": 28,
   "metadata": {},
   "outputs": [
    {
     "data": {
      "text/plain": [
       "{'dense_2': <tf.Tensor: id=58220, shape=(1, 10), dtype=float32, numpy=\n",
       " array([[2.8250534e-07, 7.8539109e-08, 6.6272719e-07, 5.8744956e-07,\n",
       "         1.6988639e-05, 1.3521292e-03, 1.4161519e-05, 7.9214470e-03,\n",
       "         2.6696691e-05, 9.9066693e-01]], dtype=float32)>}"
      ]
     },
     "execution_count": 28,
     "metadata": {},
     "output_type": "execute_result"
    }
   ],
   "source": [
    "results = inference(tf.constant(x_test_scaled[0:1]))\n",
    "results"
   ]
  },
  {
   "cell_type": "code",
   "execution_count": 29,
   "metadata": {},
   "outputs": [
    {
     "data": {
      "text/plain": [
       "<tf.Tensor: id=58220, shape=(1, 10), dtype=float32, numpy=\n",
       "array([[2.8250534e-07, 7.8539109e-08, 6.6272719e-07, 5.8744956e-07,\n",
       "        1.6988639e-05, 1.3521292e-03, 1.4161519e-05, 7.9214470e-03,\n",
       "        2.6696691e-05, 9.9066693e-01]], dtype=float32)>"
      ]
     },
     "execution_count": 29,
     "metadata": {},
     "output_type": "execute_result"
    }
   ],
   "source": [
    "results['dense_2']"
   ]
  },
  {
   "cell_type": "code",
   "execution_count": null,
   "metadata": {},
   "outputs": [],
   "source": []
  },
  {
   "cell_type": "code",
   "execution_count": null,
   "metadata": {},
   "outputs": [],
   "source": []
  },
  {
   "cell_type": "code",
   "execution_count": null,
   "metadata": {},
   "outputs": [],
   "source": []
  }
 ],
 "metadata": {
  "kernelspec": {
   "display_name": "Python 3",
   "language": "python",
   "name": "python3"
  },
  "language_info": {
   "codemirror_mode": {
    "name": "ipython",
    "version": 3
   },
   "file_extension": ".py",
   "mimetype": "text/x-python",
   "name": "python",
   "nbconvert_exporter": "python",
   "pygments_lexer": "ipython3",
   "version": "3.7.6"
  }
 },
 "nbformat": 4,
 "nbformat_minor": 4
}
