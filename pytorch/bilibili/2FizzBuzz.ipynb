{
 "cells": [
  {
   "cell_type": "markdown",
   "metadata": {},
   "source": [
    "# FizzBuzz\n",
    "- 从1开始往上数数，当遇到3的倍数时，说fizz\n",
    "- 当遇到5的倍数说buzz\n",
    "- 当遇到15的倍数fizzbuzz \n",
    "- 其他情况正常数数"
   ]
  },
  {
   "cell_type": "code",
   "execution_count": 13,
   "metadata": {},
   "outputs": [],
   "source": [
    "def fizz_buzz_encode(i):\n",
    "    if i % 15==0: return 3\n",
    "    elif i % 5==0: return 2\n",
    "    elif i % 3==0: return 1\n",
    "    else: return 0\n",
    "    \n",
    "def fizz_buzz_decode(i,prediction):\n",
    "    return [str(i),'fizz','buzz','fizzbuzz'][prediction]"
   ]
  },
  {
   "cell_type": "code",
   "execution_count": 2,
   "metadata": {},
   "outputs": [],
   "source": [
    "def helper(i):\n",
    "    print(fizz_buzz_decode(i,fizz_buzz_encode(i)))"
   ]
  },
  {
   "cell_type": "code",
   "execution_count": 3,
   "metadata": {},
   "outputs": [
    {
     "name": "stdout",
     "output_type": "stream",
     "text": [
      "fizzbuzz\n",
      "1\n",
      "2\n",
      "fizz\n",
      "4\n",
      "buzz\n",
      "fizz\n",
      "7\n",
      "8\n",
      "fizz\n"
     ]
    }
   ],
   "source": [
    "for i in range(10):\n",
    "    helper(i)"
   ]
  },
  {
   "cell_type": "markdown",
   "metadata": {},
   "source": [
    "首先定义模型的输入和输出(训练数据)"
   ]
  },
  {
   "cell_type": "code",
   "execution_count": 18,
   "metadata": {},
   "outputs": [
    {
     "data": {
      "text/plain": [
       "array([0, 0, 0, 0, 0, 1, 0, 0, 0, 0])"
      ]
     },
     "execution_count": 18,
     "metadata": {},
     "output_type": "execute_result"
    }
   ],
   "source": [
    "import numpy as np\n",
    "import torch\n",
    "\n",
    "NUM_DIGITS = 10 #十位数有1024个数可以预测，100以下做测试数据\n",
    "\n",
    "#将数字转成二进制数据，比较容易学习\n",
    "def binary_encode(i,num_digits):\n",
    "    # 等价于i除以2的d次方，然后与1做与运算，也就是如果i/(2^d)得到的数装换为2进制后，如果最后一位为1，就输出1，最后一位为0就输出0。\n",
    "    return np.array([i >> d & 1 for d in range(num_digits)])[::-1]\n",
    "\n",
    "trX = torch.Tensor([binary_encode(i,NUM_DIGITS) for i in range(101,2**NUM_DIGITS)])\n",
    "trY = torch.LongTensor([fizz_buzz_encode(i) for i in range(101,2**NUM_DIGITS)])\n",
    "\n",
    "binary_encode(16,NUM_DIGITS)"
   ]
  },
  {
   "cell_type": "code",
   "execution_count": 19,
   "metadata": {},
   "outputs": [
    {
     "data": {
      "text/plain": [
       "tensor([[0., 0., 0.,  ..., 1., 0., 1.],\n",
       "        [0., 0., 0.,  ..., 1., 1., 0.],\n",
       "        [0., 0., 0.,  ..., 1., 1., 1.],\n",
       "        ...,\n",
       "        [1., 1., 1.,  ..., 1., 0., 1.],\n",
       "        [1., 1., 1.,  ..., 1., 1., 0.],\n",
       "        [1., 1., 1.,  ..., 1., 1., 1.]])"
      ]
     },
     "execution_count": 19,
     "metadata": {},
     "output_type": "execute_result"
    }
   ],
   "source": [
    "trX"
   ]
  },
  {
   "cell_type": "code",
   "execution_count": 20,
   "metadata": {},
   "outputs": [
    {
     "data": {
      "text/plain": [
       "torch.Size([923])"
      ]
     },
     "execution_count": 20,
     "metadata": {},
     "output_type": "execute_result"
    }
   ],
   "source": [
    "trY.shape"
   ]
  },
  {
   "cell_type": "markdown",
   "metadata": {},
   "source": [
    "用pytorch定义模型"
   ]
  },
  {
   "cell_type": "code",
   "execution_count": 21,
   "metadata": {},
   "outputs": [],
   "source": [
    "NUM_HIDDEN = 100\n",
    "model = torch.nn.Sequential(\n",
    "    torch.nn.Linear(NUM_DIGITS,NUM_HIDDEN),\n",
    "    torch.nn.ReLU(),\n",
    "    torch.nn.Linear(NUM_HIDDEN,4) # 四分类概率分布\n",
    ")\n",
    "if torch.cuda.is_available():\n",
    "    model=model.cuda()"
   ]
  },
  {
   "cell_type": "code",
   "execution_count": 33,
   "metadata": {},
   "outputs": [],
   "source": [
    "loss_fn = torch.nn.CrossEntropyLoss() #拟合两种分布相似度有多高\n",
    "optimizer = torch.optim.Adam(model.parameters(),lr=0.05)"
   ]
  },
  {
   "cell_type": "code",
   "execution_count": 34,
   "metadata": {},
   "outputs": [],
   "source": [
    "BATCH_SIZE=128\n",
    "\n",
    "for epoch in range(10000):\n",
    "    for start in range(0,len(trX),BATCH_SIZE):\n",
    "        end = start + BATCH_SIZE\n",
    "        batchX = trX[start:end]\n",
    "        batchY = trY[start:end]\n",
    "        \n",
    "        if torch.cuda.is_available():\n",
    "            batchX = batchX.cuda()\n",
    "            batchY = batchY.cuda()\n",
    "            \n",
    "        y_pred = model(batchX) #forward\n",
    "        loss = loss_fn(y_pred,batchY)\n",
    "        \n",
    "#         print(\"Epoch\",epoch,loss.item())\n",
    "        optimizer.zero_grad()\n",
    "        loss.backward() #backpass\n",
    "        optimizer.step() #gradient descent"
   ]
  },
  {
   "cell_type": "markdown",
   "metadata": {},
   "source": [
    "训练好的模型尝试在1到100这些数字上玩"
   ]
  },
  {
   "cell_type": "code",
   "execution_count": 35,
   "metadata": {},
   "outputs": [],
   "source": [
    "testX = torch.Tensor([binary_encode(i,NUM_DIGITS) for i in range(1,101)])\n",
    "if torch.cuda.is_available():\n",
    "    testX = testX.cuda()\n",
    "\n",
    "with torch.no_grad():\n",
    "    testY = model(testX)\n",
    "    \n"
   ]
  },
  {
   "cell_type": "code",
   "execution_count": 36,
   "metadata": {},
   "outputs": [
    {
     "data": {
      "text/plain": [
       "array([0, 1, 1, 0, 0, 1, 0, 0, 1, 2, 0, 1, 0, 0, 3, 0, 0, 1, 0, 2, 0, 0,\n",
       "       0, 0, 2, 0, 1, 0, 0, 3, 0, 1, 1, 1, 2, 1, 0, 1, 1, 2, 0, 1, 0, 0,\n",
       "       3, 0, 0, 1, 0, 2, 1, 0, 0, 1, 2, 0, 1, 0, 0, 3, 0, 0, 1, 0, 0, 1,\n",
       "       0, 0, 0, 2, 0, 1, 0, 0, 3, 1, 0, 1, 0, 2, 1, 0, 0, 1, 0, 2, 1, 0,\n",
       "       0, 3, 0, 0, 0, 0, 2, 1, 0, 1, 1, 1])"
      ]
     },
     "execution_count": 36,
     "metadata": {},
     "output_type": "execute_result"
    }
   ],
   "source": [
    "testY.max(1)[1].cpu().data.numpy()"
   ]
  },
  {
   "cell_type": "code",
   "execution_count": 37,
   "metadata": {},
   "outputs": [],
   "source": [
    "predicts = zip(range(1,100),list(testY.max(1)[1].cpu().data.tolist()))"
   ]
  },
  {
   "cell_type": "code",
   "execution_count": 38,
   "metadata": {},
   "outputs": [
    {
     "name": "stdout",
     "output_type": "stream",
     "text": [
      "['1', 'fizz', 'fizz', '4', '5', 'fizz', '7', '8', 'fizz', 'buzz', '11', 'fizz', '13', '14', 'fizzbuzz', '16', '17', 'fizz', '19', 'buzz', '21', '22', '23', '24', 'buzz', '26', 'fizz', '28', '29', 'fizzbuzz', '31', 'fizz', 'fizz', 'fizz', 'buzz', 'fizz', '37', 'fizz', 'fizz', 'buzz', '41', 'fizz', '43', '44', 'fizzbuzz', '46', '47', 'fizz', '49', 'buzz', 'fizz', '52', '53', 'fizz', 'buzz', '56', 'fizz', '58', '59', 'fizzbuzz', '61', '62', 'fizz', '64', '65', 'fizz', '67', '68', '69', 'buzz', '71', 'fizz', '73', '74', 'fizzbuzz', 'fizz', '77', 'fizz', '79', 'buzz', 'fizz', '82', '83', 'fizz', '85', 'buzz', 'fizz', '88', '89', 'fizzbuzz', '91', '92', '93', '94', 'buzz', 'fizz', '97', 'fizz', 'fizz']\n"
     ]
    }
   ],
   "source": [
    "print([fizz_buzz_decode(i,x) for i,x in predicts])"
   ]
  },
  {
   "cell_type": "code",
   "execution_count": null,
   "metadata": {},
   "outputs": [],
   "source": []
  }
 ],
 "metadata": {
  "kernelspec": {
   "display_name": "Python 3",
   "language": "python",
   "name": "python3"
  },
  "language_info": {
   "codemirror_mode": {
    "name": "ipython",
    "version": 3
   },
   "file_extension": ".py",
   "mimetype": "text/x-python",
   "name": "python",
   "nbconvert_exporter": "python",
   "pygments_lexer": "ipython3",
   "version": "3.7.6"
  }
 },
 "nbformat": 4,
 "nbformat_minor": 4
}
