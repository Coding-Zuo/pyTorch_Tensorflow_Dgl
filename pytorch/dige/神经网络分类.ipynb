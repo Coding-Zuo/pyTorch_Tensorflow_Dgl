{
 "cells": [
  {
   "cell_type": "code",
   "execution_count": 1,
   "metadata": {},
   "outputs": [],
   "source": [
    "import torch\n",
    "import torch.nn as nn\n",
    "import torch.nn.functional as F\n",
    "import torch.optim as optim\n",
    "from torchvision import datasets,transforms"
   ]
  },
  {
   "cell_type": "code",
   "execution_count": 15,
   "metadata": {},
   "outputs": [],
   "source": [
    "# coding=utf-8\n",
    "\n",
    "L = [0, 10, 20, 30, 40, 50]\n",
    "low, high, stride = 1, 4, 2\n",
    "\n",
    "# 正序\n",
    "assert L[:] == [0, 10, 20, 30, 40, 50] # [seq[0],   seq[1],          ..., seq[-1]    ]\n",
    "assert L[low:] == [10, 20, 30, 40, 50] # [seq[low], seq[low+1],      ..., seq[-1]    ]\n",
    "assert L[:high] == [0, 10, 20, 30]     # [seq[0],   seq[1],          ..., seq[high-1]]\n",
    "assert L[low:high] == [10, 20, 30]     # [seq[low], seq[low+1],      ..., seq[high-1]]\n",
    "assert L[::stride] == [0, 20, 40]      # [seq[0],   seq[stride],     ..., seq[-1]    ]\n",
    "assert L[low::stride] == [10, 30, 50]  # [seq[low], seq[low+stride], ..., seq[-1]    ]\n",
    "assert L[:high:stride] == [0, 20]      # [seq[0],   seq[stride],     ..., seq[high-1]]\n",
    "assert L[low:high:stride] == [10, 30]  # [seq[low], seq[low+stride], ..., seq[high-1]]\n",
    "\n",
    "# 逆序\n",
    "assert L[::-stride] == [50, 30, 10]    # [seq[-1],   seq[-1-stride],   ..., seq[0]    ]\n",
    "assert L[high::-stride] == [40, 20, 0] # [seq[high], seq[high-stride], ..., seq[0]    ]\n",
    "assert L[:low:-stride] == [50, 30]     # [seq[-1],   seq[-1-stride],   ..., seq[low+1]]\n",
    "assert L[high:low:-stride] == [40, 20] # [seq[high], seq[high-stride], ..., seq[low+1]]"
   ]
  },
  {
   "cell_type": "code",
   "execution_count": 3,
   "metadata": {},
   "outputs": [],
   "source": [
    "# 从二级制数据读取文件\n",
    "import torch.utils.data as Data\n",
    "import os\n",
    "import gzip\n",
    "import numpy as np\n",
    "\n",
    "dataPath = '/home/zuoyuhui/datasets/fashion-mnist'\n",
    "\n",
    "import pickle\n",
    "import requests\n",
    "\n",
    "\n",
    "\n",
    "def load_data(data_folder, data_name, label_name):\n",
    "    \"\"\"\n",
    "        data_folder: 文件目录\n",
    "        data_name： 数据文件名\n",
    "        label_name：标签数据文件名\n",
    "    \"\"\"\n",
    "    with gzip.open(os.path.join(data_folder,label_name), 'rb') as lbpath: # rb表示的是读取二进制数据\n",
    "        y_train = np.frombuffer(lbpath.read(), np.uint8, offset=8)\n",
    " \n",
    "    with gzip.open(os.path.join(data_folder,data_name), 'rb') as imgpath:\n",
    "        x_train = np.frombuffer(\n",
    "            imgpath.read(), np.uint8, offset=16).reshape(len(y_train), 28, 28)\n",
    "    return (x_train, y_train)\n",
    "\n",
    "\n",
    "class DealDataset(Data.Dataset):\n",
    "    \"\"\"\n",
    "        读取数据、初始化数据\n",
    "    \"\"\"\n",
    "    def __init__(self, folder, data_name, label_name,transform=None):\n",
    "        (train_set, train_labels) = load_data(folder, data_name, label_name) # 其实也可以直接使用torch.load(),读取之后的结果为torch.Tensor形式\n",
    "        self.train_set = train_set\n",
    "        self.train_labels = train_labels\n",
    "        self.transform = transform\n",
    " \n",
    "    def __getitem__(self, index):\n",
    " \n",
    "        img, target = self.train_set[index], int(self.train_labels[index])\n",
    "        if self.transform is not None:\n",
    "            img = self.transform(img)\n",
    "        return img, target\n",
    " \n",
    "    def __len__(self):\n",
    "        return len(self.train_set)"
   ]
  },
  {
   "cell_type": "code",
   "execution_count": 19,
   "metadata": {},
   "outputs": [
    {
     "data": {
      "text/plain": [
       "(10000, 28, 28)"
      ]
     },
     "execution_count": 19,
     "metadata": {},
     "output_type": "execute_result"
    }
   ],
   "source": [
    "x_train,y_train = load_data(dataPath,\n",
    "                           \"train-images-idx3-ubyte.gz\",\n",
    "                           \"train-labels-idx1-ubyte.gz\")\n",
    " \n",
    "import numpy as np\n",
    "x_train = np.array(x_train)\n",
    "x_valid = x_train[-10000:]\n",
    "x_train = x_train[:50000]\n",
    "y_train = np.array(y_train)\n",
    "y_valid = y_train[-10000:]\n",
    "y_train = y_train[:50000]\n",
    "\n",
    "x_valid.shape"
   ]
  },
  {
   "cell_type": "code",
   "execution_count": 23,
   "metadata": {},
   "outputs": [
    {
     "data": {
      "text/plain": [
       "<matplotlib.image.AxesImage at 0x7f075642bf10>"
      ]
     },
     "execution_count": 23,
     "metadata": {},
     "output_type": "execute_result"
    },
    {
     "data": {
      "image/png": "[encoded data removed]",
      "text/plain": [
       "<Figure size 432x288 with 1 Axes>"
      ]
     },
     "metadata": {
      "needs_background": "light"
     },
     "output_type": "display_data"
    }
   ],
   "source": [
    "import matplotlib.pyplot as plt\n",
    "plt.imshow(x_valid[1])"
   ]
  },
  {
   "cell_type": "code",
   "execution_count": 36,
   "metadata": {},
   "outputs": [
    {
     "name": "stdout",
     "output_type": "stream",
     "text": [
      "tensor(0, dtype=torch.uint8)\n"
     ]
    },
    {
     "name": "stderr",
     "output_type": "stream",
     "text": [
      "/root/anaconda3/lib/python3.7/site-packages/ipykernel_launcher.py:2: UserWarning: To copy construct from a tensor, it is recommended to use sourceTensor.clone().detach() or sourceTensor.clone().detach().requires_grad_(True), rather than torch.tensor(sourceTensor).\n",
      "  \n"
     ]
    },
    {
     "data": {
      "text/plain": [
       "torch.Size([50000, 28, 28])"
      ]
     },
     "execution_count": 36,
     "metadata": {},
     "output_type": "execute_result"
    }
   ],
   "source": [
    "x_train,y_train,x_valid,y_valid = map(\n",
    "    torch.tensor,(x_train,y_train,x_valid,y_valid)\n",
    ")\n",
    "\n",
    "n,c,_=x_train.cpu().data.numpy().shape\n",
    "c = c**2\n",
    "\n",
    "print(y_train.min())\n",
    "x_train.size()"
   ]
  },
  {
   "cell_type": "markdown",
   "metadata": {},
   "source": [
    "## 如果模型有可学习的参数最好用nn.Module  其他情况用torch.nn.functional相对简单 \n",
    "\n",
    "- 创建一样高类必须继承nn.Module且在其构造函数中需调用nn.Module的构造函数\n",
    "- 无需写方向传播，nn.Module能利用autograd自动实现反向传播\n",
    "- Module中的可学习参数可以通过named_parameters()或者parameters()返回迭代器"
   ]
  },
  {
   "cell_type": "code",
   "execution_count": 39,
   "metadata": {},
   "outputs": [],
   "source": [
    "import torch.nn.functional as F\n",
    "\n",
    "loss_func = F.cross_entropy\n",
    "\n",
    "def model(xb):\n",
    "    return xb.mm(weights)"
   ]
  },
  {
   "cell_type": "code",
   "execution_count": 57,
   "metadata": {},
   "outputs": [
    {
     "data": {
      "text/plain": [
       "tensor([[[0., 0., 0.,  ..., -0., -0., 0.],\n",
       "         [0., 0., -0.,  ..., -0., 0., -0.],\n",
       "         [0., 0., 0.,  ..., -0., 0., 0.],\n",
       "         ...,\n",
       "         [-0., -0., -0.,  ..., 0., -0., 0.],\n",
       "         [-0., -0., -0.,  ..., -0., 0., -0.],\n",
       "         [0., -0., -0.,  ..., -0., 0., 0.]],\n",
       "\n",
       "        [[0., 0., 0.,  ..., -0., -0., 0.],\n",
       "         [0., 0., -0.,  ..., -0., 0., -0.],\n",
       "         [0., 0., 0.,  ..., -0., 0., 0.],\n",
       "         ...,\n",
       "         [-0., -0., -0.,  ..., 0., -0., 0.],\n",
       "         [-0., -0., -0.,  ..., -0., 0., -0.],\n",
       "         [0., -0., -0.,  ..., -0., 0., 0.]],\n",
       "\n",
       "        [[0., 0., 0.,  ..., -0., -0., 0.],\n",
       "         [0., 0., -0.,  ..., -0., 0., -0.],\n",
       "         [0., 0., 0.,  ..., -0., 0., 0.],\n",
       "         ...,\n",
       "         [-0., -0., -0.,  ..., 0., -0., 0.],\n",
       "         [-0., -0., -0.,  ..., -0., 0., -0.],\n",
       "         [0., -0., -0.,  ..., -0., 0., 0.]],\n",
       "\n",
       "        ...,\n",
       "\n",
       "        [[0., 0., 0.,  ..., -0., -0., 0.],\n",
       "         [0., 0., -0.,  ..., -0., 0., -0.],\n",
       "         [0., 0., 0.,  ..., -0., 0., 0.],\n",
       "         ...,\n",
       "         [-0., -0., -0.,  ..., 0., -0., 0.],\n",
       "         [-0., -0., -0.,  ..., -0., 0., -0.],\n",
       "         [0., -0., -0.,  ..., -0., 0., 0.]],\n",
       "\n",
       "        [[0., 0., 0.,  ..., -0., -0., 0.],\n",
       "         [0., 0., -0.,  ..., -0., 0., -0.],\n",
       "         [0., 0., 0.,  ..., -0., 0., 0.],\n",
       "         ...,\n",
       "         [-0., -0., -0.,  ..., 0., -0., 0.],\n",
       "         [-0., -0., -0.,  ..., -0., 0., -0.],\n",
       "         [0., -0., -0.,  ..., -0., 0., 0.]],\n",
       "\n",
       "        [[0., 0., 0.,  ..., -0., -0., 0.],\n",
       "         [0., 0., -0.,  ..., -0., 0., -0.],\n",
       "         [0., 0., 0.,  ..., -0., 0., 0.],\n",
       "         ...,\n",
       "         [-0., -0., -0.,  ..., 0., -0., 0.],\n",
       "         [-0., -0., -0.,  ..., -0., 0., -0.],\n",
       "         [0., -0., -0.,  ..., -0., 0., 0.]]], grad_fn=<ViewBackward>)"
      ]
     },
     "execution_count": 57,
     "metadata": {},
     "output_type": "execute_result"
    }
   ],
   "source": [
    "batch_size = 64\n",
    "xb = x_train[0:batch_size]\n",
    "yb = y_train[0:batch_size]\n",
    "\n",
    "weights = torch.randn([28,28,10],dtype=torch.float, requires_grad = True)\n",
    "bias = torch.zeros(10,requires_grad=True)\n",
    "\n",
    "\n",
    "\n",
    "res = torch.einsum('bww,wwj->bwj', xb, weights)"
   ]
  },
  {
   "cell_type": "code",
   "execution_count": 46,
   "metadata": {},
   "outputs": [
    {
     "data": {
      "text/plain": [
       "(torch.Size([64, 28, 28]), torch.Size([28, 28, 10]))"
      ]
     },
     "execution_count": 46,
     "metadata": {},
     "output_type": "execute_result"
    }
   ],
   "source": [
    "xb.shape,weights.shape"
   ]
  },
  {
   "cell_type": "code",
   "execution_count": 49,
   "metadata": {},
   "outputs": [
    {
     "data": {
      "text/plain": [
       "torch.Size([28, 64, 28])"
      ]
     },
     "execution_count": 49,
     "metadata": {},
     "output_type": "execute_result"
    }
   ],
   "source": [
    "xb.permute(2, 0, 1).float().size()"
   ]
  },
  {
   "cell_type": "code",
   "execution_count": null,
   "metadata": {},
   "outputs": [],
   "source": []
  }
 ],
 "metadata": {
  "kernelspec": {
   "display_name": "Python 3",
   "language": "python",
   "name": "python3"
  },
  "language_info": {
   "codemirror_mode": {
    "name": "ipython",
    "version": 3
   },
   "file_extension": ".py",
   "mimetype": "text/x-python",
   "name": "python",
   "nbconvert_exporter": "python",
   "pygments_lexer": "ipython3",
   "version": "3.7.6"
  }
 },
 "nbformat": 4,
 "nbformat_minor": 4
}
